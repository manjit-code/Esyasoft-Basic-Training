{
 "cells": [
  {
   "cell_type": "code",
   "execution_count": null,
   "id": "4ab6ae9e",
   "metadata": {},
   "outputs": [],
   "source": [
    "employee = {\n",
    "    \"empID\": \"es023\",\n",
    "    \"name\": \"Manjit Majhi\"\n",
    "}\n",
    "\n",
    "print(employee)\n",
    "print(type(employee))"
   ]
  },
  {
   "cell_type": "code",
   "execution_count": null,
   "id": "0bc5c8f5",
   "metadata": {},
   "outputs": [],
   "source": []
  },
  {
   "cell_type": "code",
   "execution_count": 2,
   "id": "e2c18786",
   "metadata": {},
   "outputs": [
    {
     "name": "stdout",
     "output_type": "stream",
     "text": [
      "(1, 2, '4', '6', 'manjit')\n"
     ]
    }
   ],
   "source": [
    "A = (1, 2, '4', '6', 'manjit')\n",
    "print(A)"
   ]
  },
  {
   "cell_type": "code",
   "execution_count": null,
   "id": "7cf2358b",
   "metadata": {},
   "outputs": [],
   "source": [
    "#Conditional statement\n",
    "age = int(input(\"Enter Your Age\"))\n",
    "\n",
    "if age >= 18:\n",
    "    print(\"You can Vote\")\n",
    "else:\n",
    "    print(\"You are not eligble to vote\")"
   ]
  },
  {
   "cell_type": "code",
   "execution_count": 3,
   "id": "d09ddf84",
   "metadata": {},
   "outputs": [
    {
     "name": "stdout",
     "output_type": "stream",
     "text": [
      "Grade C\n"
     ]
    }
   ],
   "source": [
    "marks = int(input(\"Enter Your marks:\"))\n",
    "\n",
    "if marks >= 90:\n",
    "    print(\"Grade A\")\n",
    "elif marks >= 75:\n",
    "    print(\"Grade B\")\n",
    "else:\n",
    "    print(\"Grade C\")"
   ]
  },
  {
   "cell_type": "code",
   "execution_count": null,
   "id": "93f5be06",
   "metadata": {},
   "outputs": [],
   "source": []
  },
  {
   "cell_type": "markdown",
   "id": "e64ed185",
   "metadata": {},
   "source": [
    "## Logical Operator\n",
    "### and\n",
    "### or\n",
    "### not"
   ]
  },
  {
   "cell_type": "code",
   "execution_count": null,
   "id": "e1b7f6f6",
   "metadata": {},
   "outputs": [],
   "source": [
    "#Loops\n",
    "# Repeat a block of code\n",
    "\n",
    "# Types:\n",
    "# 1. For\n",
    "# 2. While\n",
    "\n",
    "s = [\"a\", \"b\", \"c\"]\n",
    "# 1. For\n",
    "for i in s:\n",
    "    print(i)\n",
    "\n",
    "# 2. While\n",
    "count = 0\n",
    "while count < 3:\n",
    "    count = count + 1\n",
    "    print(count)\n"
   ]
  },
  {
   "cell_type": "code",
   "execution_count": null,
   "id": "42899211",
   "metadata": {},
   "outputs": [
    {
     "name": "stdout",
     "output_type": "stream",
     "text": [
      "range(0, -1)\n"
     ]
    }
   ],
   "source": [
    "print(range(-1))\n",
    "\n",
    "s = [\"a\", \"b\", \"c\"]\n",
    "\n",
    "for i in range(-1):\n",
    "    print(i)\n",
    "    print(s[i])\n",
    "\n"
   ]
  },
  {
   "cell_type": "code",
   "execution_count": 4,
   "id": "74627b20",
   "metadata": {},
   "outputs": [
    {
     "name": "stdout",
     "output_type": "stream",
     "text": [
      "['a', 'b', 'c']\n"
     ]
    }
   ],
   "source": [
    "print(s)"
   ]
  },
  {
   "cell_type": "code",
   "execution_count": null,
   "id": "62172f80",
   "metadata": {},
   "outputs": [
    {
     "name": "stdout",
     "output_type": "stream",
     "text": [
      "10\n"
     ]
    }
   ],
   "source": [
    "# Function: A piece of code which perform a specific task, which can be called anywhere in the code     \n",
    "#  Re-usable block of code\n",
    "\n",
    "def sum(a, b):\n",
    "    return a+b\n",
    "\n",
    "print(sum(3,7))"
   ]
  },
  {
   "cell_type": "code",
   "execution_count": 12,
   "id": "31d53e7d",
   "metadata": {},
   "outputs": [
    {
     "name": "stdout",
     "output_type": "stream",
     "text": [
      "17\n",
      "2.5\n",
      "18\n"
     ]
    }
   ],
   "source": [
    "import calculator as cal\n",
    "\n",
    "print(cal.add(8,9))\n",
    "\n",
    "print(cal.div(5, 2))\n",
    "\n",
    "print(cal.mul(2, 9))\n",
    "\n",
    "# print(cal.rem(1, 2)) # Not found\n",
    "\n",
    "# As jupyter note book has separate kernel, so sometimes it throws some issue while trying to use module. \n",
    "# To use 'module' in notebook we have to add that module to global notebook\n",
    "\n"
   ]
  },
  {
   "cell_type": "code",
   "execution_count": null,
   "id": "ad172fc3",
   "metadata": {},
   "outputs": [],
   "source": []
  }
 ],
 "metadata": {
  "kernelspec": {
   "display_name": "Python 3",
   "language": "python",
   "name": "python3"
  },
  "language_info": {
   "codemirror_mode": {
    "name": "ipython",
    "version": 3
   },
   "file_extension": ".py",
   "mimetype": "text/x-python",
   "name": "python",
   "nbconvert_exporter": "python",
   "pygments_lexer": "ipython3",
   "version": "3.13.1"
  }
 },
 "nbformat": 4,
 "nbformat_minor": 5
}
