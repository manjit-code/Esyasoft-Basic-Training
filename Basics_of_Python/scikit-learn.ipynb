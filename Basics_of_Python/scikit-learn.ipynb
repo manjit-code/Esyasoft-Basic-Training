{
 "cells": [
  {
   "cell_type": "code",
   "execution_count": null,
   "id": "2c4019a8",
   "metadata": {},
   "outputs": [],
   "source": [
    "import sklearn\n",
    "import numpy as np\n",
    "import pandas as pd\n",
    "import matplotlib.pyplot as plt\n",
    "import seaborn as sns"
   ]
  }
 ],
 "metadata": {
  "language_info": {
   "name": "python"
  }
 },
 "nbformat": 4,
 "nbformat_minor": 5
}
